{
  "nbformat": 4,
  "nbformat_minor": 0,
  "metadata": {
    "colab": {
      "name": "ENDS3.ipynb",
      "provenance": [],
      "authorship_tag": "ABX9TyPtn1lDDhqUabSj4T/mt2pT",
      "include_colab_link": true
    },
    "kernelspec": {
      "name": "python3",
      "display_name": "Python 3"
    }
  },
  "cells": [
    {
      "cell_type": "markdown",
      "metadata": {
        "id": "view-in-github",
        "colab_type": "text"
      },
      "source": [
        "<a href=\"https://colab.research.google.com/github/colabforram/END/blob/main/S3/ENDS3.ipynb\" target=\"_parent\"><img src=\"https://colab.research.google.com/assets/colab-badge.svg\" alt=\"Open In Colab\"/></a>"
      ]
    },
    {
      "cell_type": "code",
      "metadata": {
        "id": "eZRxx0Vv-LRe"
      },
      "source": [
        "import random\n",
        "import math\n",
        "import operator\n",
        "import string\n",
        "from functools import partial, reduce"
      ],
      "execution_count": 1,
      "outputs": []
    },
    {
      "cell_type": "markdown",
      "metadata": {
        "id": "8epxuYsu-z6v"
      },
      "source": [
        "Q1.Write a function using only list filter lambda that can tell whether a number is a Fibonacci number or not. You can use a pre-calculated list/dict to store fab numbers till 10000 PTS:100 "
      ]
    },
    {
      "cell_type": "code",
      "metadata": {
        "id": "NHcE4gPX-uuS",
        "outputId": "0dce0770-83ea-4dd1-f086-a4555037250e",
        "colab": {
          "base_uri": "https://localhost:8080/"
        }
      },
      "source": [
        "lambda_is_fibonacci = lambda x: lambda_is_prefect_square(5*x*x + 4) or lambda_is_prefect_square(5*x*x - 4)\n",
        "lambda_is_prefect_square = lambda x: x == int(math.sqrt(x))**2\n",
        "\n",
        "q1 = list(filter(lambda_is_fibonacci, range(10)))\n",
        "print(q1)"
      ],
      "execution_count": 2,
      "outputs": [
        {
          "output_type": "stream",
          "text": [
            "[0, 1, 2, 3, 5, 8]\n"
          ],
          "name": "stdout"
        }
      ]
    },
    {
      "cell_type": "markdown",
      "metadata": {
        "id": "FZE-qSje-7qc"
      },
      "source": [
        "Q2.Using list comprehension (and zip/lambda/etc if required) write five different expressions that: PTS:100"
      ]
    },
    {
      "cell_type": "markdown",
      "metadata": {
        "id": "jeBZVp-w_Fsb"
      },
      "source": [
        "Q2.1 add 2 iterables a and b such that a is even and b is odd"
      ]
    },
    {
      "cell_type": "code",
      "metadata": {
        "id": "aP60020x-04S",
        "outputId": "0ecdd6cf-bb13-4569-80b0-30b9adbd2a78",
        "colab": {
          "base_uri": "https://localhost:8080/"
        }
      },
      "source": [
        "a = [ 2 , 3 ,4]\n",
        "b = [1,2,3]\n",
        "q2_1 = [x+y for x,y in zip(a,b) if x%2==0 and y%2!=0]\n",
        "print(q2_1)"
      ],
      "execution_count": 3,
      "outputs": [
        {
          "output_type": "stream",
          "text": [
            "[3, 7]\n"
          ],
          "name": "stdout"
        }
      ]
    },
    {
      "cell_type": "markdown",
      "metadata": {
        "id": "5l1x4MGl_SEW"
      },
      "source": [
        "Q2.2 strips every vowel from a string provided (tsai>>t s)"
      ]
    },
    {
      "cell_type": "code",
      "metadata": {
        "id": "kp2B__Y3_PlQ",
        "outputId": "88f5499c-4546-409f-91f5-c3dd2be27a6a",
        "colab": {
          "base_uri": "https://localhost:8080/"
        }
      },
      "source": [
        "text = 'tsai'\n",
        "q2_2 = ''.join([x for x in text if x.lower() not in 'aeiou'])\n",
        "print(q2_2)"
      ],
      "execution_count": 4,
      "outputs": [
        {
          "output_type": "stream",
          "text": [
            "ts\n"
          ],
          "name": "stdout"
        }
      ]
    },
    {
      "cell_type": "markdown",
      "metadata": {
        "id": "heh5d0N8_dDo"
      },
      "source": [
        "Q2.3 acts like a ReLU function for a 1D array\n"
      ]
    },
    {
      "cell_type": "code",
      "metadata": {
        "id": "OGEQCxAo_XGY",
        "outputId": "4c3df7e5-f3d2-48bb-c6e6-74c3dabda24b",
        "colab": {
          "base_uri": "https://localhost:8080/"
        }
      },
      "source": [
        "vector = [random.uniform(-5,5) for _ in range(10)]\n",
        "print(vector)\n",
        "q2_3 = [x if x >= 0 else 0 for x in vector ]\n",
        "print(q2_3)"
      ],
      "execution_count": 5,
      "outputs": [
        {
          "output_type": "stream",
          "text": [
            "[-1.6019564985812118, -4.731230690309831, 3.5683597399718128, -4.8086424889494515, -2.748024831055884, -2.173158350777281, 3.498378535869751, 0.19998074616640693, 0.6658840024491051, 1.7961409761239855]\n",
            "[0, 0, 3.5683597399718128, 0, 0, 0, 3.498378535869751, 0.19998074616640693, 0.6658840024491051, 1.7961409761239855]\n"
          ],
          "name": "stdout"
        }
      ]
    },
    {
      "cell_type": "markdown",
      "metadata": {
        "id": "YrMQAJf0_pA4"
      },
      "source": [
        "Q2.4 acts like a sigmoid function for a 1D array"
      ]
    },
    {
      "cell_type": "code",
      "metadata": {
        "id": "NqAVBUG3_kmv",
        "outputId": "a6044943-8549-4d04-b55c-241574bebcbd",
        "colab": {
          "base_uri": "https://localhost:8080/"
        }
      },
      "source": [
        "sigmoid = lambda x:1/(1+math.exp(-x))\n",
        "q2_4 = [sigmoid(x) for x in vector]\n",
        "print(q2_4)"
      ],
      "execution_count": 6,
      "outputs": [
        {
          "output_type": "stream",
          "text": [
            "[0.1677083448070782, 0.008738579119124179, 0.972571467031782, 0.00809289864077289, 0.060198297272733, 0.10218690708016065, 0.9706415984634441, 0.549829231665003, 0.6605809067302687, 0.8576785291020907]\n"
          ],
          "name": "stdout"
        }
      ]
    },
    {
      "cell_type": "markdown",
      "metadata": {
        "id": "mXPfjWYa__7B"
      },
      "source": [
        "Q2.5 takes a small character string and shifts all characters by 5 (handle boundary conditions) tsai>>yxfn\n"
      ]
    },
    {
      "cell_type": "code",
      "metadata": {
        "id": "NwEKRlIvAbed",
        "outputId": "440aad7b-b4ef-4326-ee34-cbd355d01d3b",
        "colab": {
          "base_uri": "https://localhost:8080/"
        }
      },
      "source": [
        "shift_n = 5\n",
        "text='zb'\n",
        "q2_5 = ''.join([chr(ord(x)+shift_n) if ord(x) + shift_n <= ord('z') else chr(ord(x)+ shift_n-26) for x in text])\n",
        "print(q2_5)"
      ],
      "execution_count": 7,
      "outputs": [
        {
          "output_type": "stream",
          "text": [
            "eg\n"
          ],
          "name": "stdout"
        }
      ]
    },
    {
      "cell_type": "markdown",
      "metadata": {
        "id": "NZI9YhJuAkwd"
      },
      "source": [
        "Q3. A list comprehension expression that takes a ~200 word paragraph (write your own paragraph to check), and checks whether it has any of the swear words mentioned in https://github.com/RobertJGabriel/Google-profanity-words/blob/master/list.txt PTS:200"
      ]
    },
    {
      "cell_type": "code",
      "metadata": {
        "id": "o3RVbnrl_zUw",
        "outputId": "a773f443-ca88-4737-8c13-0265d050a2aa",
        "colab": {
          "base_uri": "https://localhost:8080/"
        }
      },
      "source": [
        "with open('swear_words.txt','r') as f:\n",
        "    swear_words = set(f.read().splitlines())\n",
        "\n",
        "with open('paragraph_catcher_in_the_rye.txt', 'r', encoding='utf8') as f:\n",
        "    paragraph = f.read()\n",
        "\n",
        "paragraph = paragraph.split()\n",
        "q3 = [word for word in paragraph if word in swear_words]\n",
        "print(q3)"
      ],
      "execution_count": 8,
      "outputs": [
        {
          "output_type": "stream",
          "text": [
            "['damn', 'hell', 'bum']\n"
          ],
          "name": "stdout"
        }
      ]
    },
    {
      "cell_type": "markdown",
      "metadata": {
        "id": "N-1SI-QLAylk"
      },
      "source": [
        "Q4. Using reduce functions: PTS:100\n"
      ]
    },
    {
      "cell_type": "markdown",
      "metadata": {
        "id": "HBQmgsj4A1dp"
      },
      "source": [
        "Q4.1 add only even numbers in a list"
      ]
    },
    {
      "cell_type": "code",
      "metadata": {
        "id": "6SI_YjTnAXOw",
        "outputId": "c8d70f5c-73c3-4763-c590-741e2c846b7c",
        "colab": {
          "base_uri": "https://localhost:8080/"
        }
      },
      "source": [
        "q4_1 = reduce(lambda x,y:x+y if y%2==0 else x, range(10)) \n",
        "print(q4_1)"
      ],
      "execution_count": 9,
      "outputs": [
        {
          "output_type": "stream",
          "text": [
            "20\n"
          ],
          "name": "stdout"
        }
      ]
    },
    {
      "cell_type": "markdown",
      "metadata": {
        "id": "VxgonkGVBCB1"
      },
      "source": [
        "Q4.2 find the biggest character in a string (printable ascii characters)"
      ]
    },
    {
      "cell_type": "code",
      "metadata": {
        "id": "C4WIcGPBA-p-",
        "outputId": "0579c441-1b91-4ad3-c881-c56257874ba8",
        "colab": {
          "base_uri": "https://localhost:8080/"
        }
      },
      "source": [
        "text = 'tsai'\n",
        "q4_2 = reduce(lambda x,y: x if ord(x)>ord(y) else y, text)\n",
        "print(q4_2)"
      ],
      "execution_count": 10,
      "outputs": [
        {
          "output_type": "stream",
          "text": [
            "t\n"
          ],
          "name": "stdout"
        }
      ]
    },
    {
      "cell_type": "markdown",
      "metadata": {
        "id": "O59D-MGNBSXq"
      },
      "source": [
        "Q4.3 adds every 3rd number in a list\n"
      ]
    },
    {
      "cell_type": "code",
      "metadata": {
        "id": "-kveJo2fBM92",
        "outputId": "61e24840-a5b2-45ac-9513-d124ebcf69e0",
        "colab": {
          "base_uri": "https://localhost:8080/"
        }
      },
      "source": [
        "a= range(10)\n",
        "print(list(a))\n",
        "q4_3 = reduce(lambda x,y: x+y,  a[::3])\n",
        "print(q4_3)"
      ],
      "execution_count": 11,
      "outputs": [
        {
          "output_type": "stream",
          "text": [
            "[0, 1, 2, 3, 4, 5, 6, 7, 8, 9]\n",
            "18\n"
          ],
          "name": "stdout"
        }
      ]
    },
    {
      "cell_type": "markdown",
      "metadata": {
        "id": "kVk5dv8EEReo"
      },
      "source": [
        "Q5. Using randint, random.choice and list comprehensions, write an expression that generates 15 random KADDAADDDD number plates, where KA is fixed, D stands for a digit, and A stands for Capital alphabets. 10<<DD<<99 & 1000<<DDDD<<9999 PTS:100"
      ]
    },
    {
      "cell_type": "code",
      "metadata": {
        "id": "x9dPR28YBRe1",
        "outputId": "293c550e-b7fc-4ace-cb59-c1bc2099ced8",
        "colab": {
          "base_uri": "https://localhost:8080/"
        }
      },
      "source": [
        "#KADDAADDDD\n",
        "#10<<DD<<99 & 1000<<DDDD<<9999\n",
        "q5 = [f'KA{dd}{aa}{dddd}' for dd,aa,dddd in \n",
        "zip(\n",
        "    [random.randint(10,99) for _ in range(15)], \n",
        "    [''.join(random.choices(string.ascii_uppercase, k=2)) for _ in range(15)], \n",
        "    [random.randint(1000, 9999) for _ in range(15)]\n",
        "    )]\n",
        "print(q5)"
      ],
      "execution_count": 12,
      "outputs": [
        {
          "output_type": "stream",
          "text": [
            "['KA81JV9106', 'KA80HV9433', 'KA63TO1149', 'KA88UB3185', 'KA31VJ6173', 'KA61SS3143', 'KA63LJ8596', 'KA92LQ6290', 'KA99QV8418', 'KA90IE9644', 'KA79RP2143', 'KA34NT9630', 'KA53JS8428', 'KA36JX7073', 'KA54XP4803']\n"
          ],
          "name": "stdout"
        }
      ]
    },
    {
      "cell_type": "markdown",
      "metadata": {
        "id": "K1CDccXsEli1"
      },
      "source": [
        "Q6. Write the above again from scratch where KA can be changed to DL, and 1000/9999 ranges can be provided.  PTS:100"
      ]
    },
    {
      "cell_type": "code",
      "metadata": {
        "id": "XCnTCXqiEWox",
        "outputId": "2567e3eb-6cf1-4f09-8799-2a01a060a2e2",
        "colab": {
          "base_uri": "https://localhost:8080/"
        }
      },
      "source": [
        "def get_plates(state:str, start_dddd:int, end_dddd:int, num_plates:int=15) -> 'list of n number plates':\n",
        "    \"\"\"Returns n number plates (default 15)\n",
        "\n",
        "    Args:\n",
        "        state (str): KA, KL etc..\n",
        "        start_dddd (int): start of range 4 digit number\n",
        "        end_dddd (int): end of range 4 digit number\n",
        "        num_plates (int, optional): number of plates to return. Defaults to 15.\n",
        "\n",
        "    Returns:\n",
        "        list of n number plates: default 15 plates\n",
        "    \"\"\"\n",
        "    return [f'{state}{dd}{aa}{dddd}' for dd,aa,dddd in \n",
        "zip(\n",
        "    [random.randint(10,99) for _ in range(num_plates)], \n",
        "    [''.join(random.choices(string.ascii_uppercase, k=2)) for _ in range(num_plates)], \n",
        "    [random.randint(start_dddd, end_dddd) for _ in range(num_plates)]\n",
        "    )]\n",
        "\n",
        "q6_1 = get_plates('DL', 1000, 9999)\n",
        "print(q6_1)\n"
      ],
      "execution_count": 13,
      "outputs": [
        {
          "output_type": "stream",
          "text": [
            "['DL80VC8779', 'DL41KN1685', 'DL14QG3891', 'DL58DI6382', 'DL37FQ7422', 'DL45VC8273', 'DL56VS9541', 'DL32OB6410', 'DL91VA4686', 'DL15PG2134', 'DL50CW1668', 'DL36KC4847', 'DL95TC9272', 'DL56WW2076', 'DL78EA3308']\n"
          ],
          "name": "stdout"
        }
      ]
    },
    {
      "cell_type": "code",
      "metadata": {
        "id": "8yf6MJiOEk3b"
      },
      "source": [
        ""
      ],
      "execution_count": 13,
      "outputs": []
    }
  ]
}